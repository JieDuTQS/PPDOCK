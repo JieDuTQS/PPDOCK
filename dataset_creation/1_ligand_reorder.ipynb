{
 "cells": [
  {
   "cell_type": "code",
   "execution_count": 2,
   "metadata": {},
   "outputs": [],
   "source": [
    "from rdkit import Chem\n",
    "import os\n",
    "from rdkit.Chem import AllChem, Draw\n",
    "\n",
    "def convert_molecules_to_smiles(input_folder_path):\n",
    "    for subfolder_name in os.listdir(input_folder_path):\n",
    "        subfolder_path = os.path.join(input_folder_path, subfolder_name)\n",
    "        \n",
    "        if os.path.isdir(subfolder_path):\n",
    "            sdf_file = os.path.join(subfolder_path, subfolder_name + '_ligand.sdf')\n",
    "  \n",
    "\n",
    "            molecule = None\n",
    "            \n",
    "            if os.path.exists(sdf_file):\n",
    "                molecule = Chem.MolFromMolFile(sdf_file, removeHs=False)\n",
    "     \n",
    "\n",
    "            if molecule:\n",
    "                mol = Chem.RemoveHs(molecule)\n",
    "                sm = Chem.MolToSmiles(mol)\n",
    "                # mol = Chem.MolFromSmiles(sm)\n",
    "                m_order = list(mol.GetPropsAsDict(includePrivate=True, includeComputed=True)['_smilesAtomOutputOrder'])\n",
    "                mol = Chem.RenumberAtoms(mol, m_order)\n",
    "                Chem.SanitizeMol(mol)\n",
    "                sdf_file_output_path = os.path.join(subfolder_path, subfolder_name + '_ligand_reorder.sdf')\n",
    "                supplier = Chem.SDWriter(sdf_file_output_path)\n",
    "                supplier.write(mol)\n",
    "                supplier.close()\n",
    "            else:\n",
    "                print(f\"Error: {subfolder_name}\")\n",
    "\n",
    "\n",
    "input_folder_path = 'data_ori/test_data'\n",
    "\n",
    "convert_molecules_to_smiles(input_folder_path)"
   ]
  }
 ],
 "metadata": {
  "kernelspec": {
   "display_name": "fabind",
   "language": "python",
   "name": "python3"
  },
  "language_info": {
   "codemirror_mode": {
    "name": "ipython",
    "version": 3
   },
   "file_extension": ".py",
   "mimetype": "text/x-python",
   "name": "python",
   "nbconvert_exporter": "python",
   "pygments_lexer": "ipython3",
   "version": "3.8.19"
  }
 },
 "nbformat": 4,
 "nbformat_minor": 2
}
